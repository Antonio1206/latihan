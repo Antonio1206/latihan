{
 "cells": [
  {
   "cell_type": "code",
   "execution_count": null,
   "metadata": {},
   "outputs": [],
   "source": []
  },
  {
   "cell_type": "markdown",
   "metadata": {},
   "source": [
    "Nama    :   Antonius Dwiputra Daeng\n",
    "Batch   :   008"
   ]
  },
  {
   "cell_type": "markdown",
   "metadata": {},
   "source": [
    "Answer"
   ]
  },
  {
   "cell_type": "code",
   "execution_count": 10,
   "metadata": {},
   "outputs": [
    {
     "name": "stdout",
     "output_type": "stream",
     "text": [
      "\n",
      "===================================================\n",
      "        Program Inventory Management\n",
      "  ===================================================\n",
      "Menu: \n",
      "  1. Input Data\n",
      "  2. Menampilklan Data\n",
      "  3. Keluar\n",
      "===================================================\n",
      "    Menu Input Data Inventory\")\n",
      "    ===================================================\n",
      "\n",
      "===================================================\n",
      "        Program Inventory Management\n",
      "  ===================================================\n",
      "Menu: \n",
      "  1. Input Data\n",
      "  2. Menampilklan Data\n",
      "  3. Keluar\n",
      "NO.|Nama Barang|Kategori Barang|Harga\n",
      "1. | Nama: surya, | Kategori: rokok, | Harga: 20000\n",
      "\n",
      "===================================================\n",
      "        Program Inventory Management\n",
      "  ===================================================\n",
      "Menu: \n",
      "  1. Input Data\n",
      "  2. Menampilklan Data\n",
      "  3. Keluar\n",
      "NO.|Nama Barang|Kategori Barang|Harga\n",
      "1. | Nama: surya, | Kategori: rokok, | Harga: 20000\n",
      "\n",
      "===================================================\n",
      "        Program Inventory Management\n",
      "  ===================================================\n",
      "Menu: \n",
      "  1. Input Data\n",
      "  2. Menampilklan Data\n",
      "  3. Keluar\n"
     ]
    }
   ],
   "source": [
    "barang = []\n",
    "\n",
    "def tambah_barang(nama, kategori, harga):\n",
    "  barang.append({\"nama\": nama, \"kategori\": kategori, \"harga\": harga})\n",
    "\n",
    "def lihat_daftar_barang():\n",
    "\n",
    "  if len(barang) <= 0:\n",
    "    print(\"Belum ada data, silakan pilih (1) untuk menambah barang\")\n",
    "  for i, m in enumerate(barang):\n",
    "    print(f\"{i+1}. | Nama: {m['nama']}, | Kategori: {m['kategori']}, | Harga: {m['harga']}\")\n",
    "\n",
    "while True:\n",
    "  print ()\n",
    "  print ('''===================================================\n",
    "        Program Inventory Management\n",
    "  ===================================================''')\n",
    "  print('''Menu: \n",
    "  1. Input Data\n",
    "  2. Menampilklan Data\n",
    "  3. Keluar''')\n",
    "  pilihan = input(\"Pilih menu atau Keluar> \")\n",
    "\n",
    "  if pilihan == \"1\":\n",
    "    print ('''===================================================\n",
    "    Menu Input Data Inventory\")\n",
    "    ===================================================''')\n",
    "    nama = input(\"Masukkan Nama barang: \")\n",
    "    kategori = input(\"Masukkan Kategori barang: \")\n",
    "    harga = int(input(\"Masukkan Harga (Rupiah)): \"))\n",
    "    tambah_barang(nama, kategori, harga)\n",
    "  elif pilihan == \"2\":\n",
    "    \n",
    "    print (\"NO.|Nama Barang|Kategori Barang|Harga\")\n",
    "    lihat_daftar_barang()\n",
    "  elif pilihan == \"3\":\n",
    "    print(\"Sampai Jumpa\")\n",
    "    break\n",
    "  else:\n",
    "    print(\"Pilihan tidak valid.\")"
   ]
  }
 ],
 "metadata": {
  "kernelspec": {
   "display_name": "base",
   "language": "python",
   "name": "python3"
  },
  "language_info": {
   "codemirror_mode": {
    "name": "ipython",
    "version": 3
   },
   "file_extension": ".py",
   "mimetype": "text/x-python",
   "name": "python",
   "nbconvert_exporter": "python",
   "pygments_lexer": "ipython3",
   "version": "3.11.4"
  },
  "orig_nbformat": 4
 },
 "nbformat": 4,
 "nbformat_minor": 2
}
